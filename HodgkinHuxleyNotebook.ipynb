{
 "cells": [
  {
   "cell_type": "markdown",
   "metadata": {},
   "source": [
    "## Hodgkin Huxley Simulation Notebook\n",
    "\n",
    "This Jupyter (python) notebook contains a simple simulation of a single compartment neuron using voltage gated sodium and potassium channels and the equations developed by Hodgkin and Huxley. The parameters are taken from _Theoretical and Computational Neuronscience_ by Dayan and Abbott. You can clone and modify the code to perform the analyses for [Assignment 2 for Rice ELEC-548](https://elec548.github.io/Assignments/hw2.html)."
   ]
  },
  {
   "cell_type": "code",
   "execution_count": 1,
   "metadata": {
    "collapsed": false
   },
   "outputs": [],
   "source": [
    "# Begin by importing useful files\n",
    "import numpy as np\n",
    "import matplotlib.pyplot as plt\n",
    "\n",
    "# Matplotlib parameter commands must be run before any matplotlib commands are, \n",
    "#   and it is advisable to reload the notebook if you want to change them.\n",
    "#   User \"notebook\" for pan and zoom, or \"inline\" for best rendering.\n",
    "#%matplotlib notebook \n",
    "%matplotlib inline\n",
    "\n",
    "import seaborn as sns # seaborn styles things nicely\n",
    "sns.set(rc={'figure.figsize': (12, 4),'lines.linewidth': 2, 'font.size': 18, \n",
    "            'axes.labelsize': 16, 'legend.fontsize': 12, 'ytick.labelsize': 12, \n",
    "            'xtick.labelsize': 12 })\n",
    "sns.set_style('white')"
   ]
  },
  {
   "cell_type": "code",
   "execution_count": null,
   "metadata": {
    "collapsed": false
   },
   "outputs": [],
   "source": [
    "def hh(I, dt):\n",
    "    ##########################################################################\n",
    "    # Simulate the membrane potential of a Hodgkin Huxley neuron with \n",
    "    #   a given input current\n",
    "    # Input:\n",
    "    #    I = current in uA/mm^2a\n",
    "    #    dt = time step between I measurments [ms]\n",
    "    #\n",
    "    # Output:\n",
    "    #    Vm = membrane voltage in mV\n",
    "    #    n = sodium activation\n",
    "    #    m = potassium activation\n",
    "    #    h = 1 - potassium inactivation\n",
    "    \n",
    "    # This function simulates a dynamical system with state variables\n",
    "    #    DV = 1/C (I - Ik - Ina - Il)\n",
    "    #    Il = gl(V-El)\n",
    "    #    Ik = gk*n^4(V-Ek)\n",
    "    #    Ina = gna*m^3*h(V-Ena)\n",
    "    #    Dn = (ninf(V) - n)/taun(V) (same for m, h )\n",
    "\n",
    "    # Summary of units: I = uA / mm^2; V = mV; g = mS; g*V = uA; C = uF; uA/uC*ms = mV\n",
    "\n",
    "    ##########################################################################\n",
    "    # Constants:\n",
    "    # Reversal potentials for various ions\n",
    "    Ek = -77 #[mV]\n",
    "    Ena = 50 #[mV]\n",
    "    El = -54.402 #[mV]\n",
    "\n",
    "    # Membrane capacitance: \n",
    "    C = 0.01 #[uF/mm^2]\n",
    "    \n",
    "    # Maximum conductances [mS/mm^2]\n",
    "    gna = 1.2\n",
    "    gk = 0.36\n",
    "    gl = 0.003\n",
    "\n",
    "    ##########################################################################\n",
    "    # Gating variables:\n",
    "    # activation K [n]\n",
    "    alpha_n = lambda V: 0.01*(V + 55) / (1 - np.exp(-0.1*(V + 55)))\n",
    "    beta_n = lambda V: 0.125 * np.exp(-0.0125*(V + 65))\n",
    "    tau_n = lambda V: 1 /(alpha_n(V) + beta_n(V))\n",
    "    n_inf = lambda V: alpha_n(V) * tau_n(V)\n",
    "    # activation Na [m]\n",
    "    alpha_m = lambda V: 0.1*(V + 40) / (1 - np.exp(-0.1*(V + 40)))\n",
    "    beta_m = lambda V: 4 * np.exp(-0.0556*(V + 65))\n",
    "    tau_m = lambda V: 1/(alpha_m(V) + beta_m(V))\n",
    "    m_inf = lambda V: alpha_m(V) * tau_m(V)\n",
    "    # inactivation Na [h]\n",
    "    alpha_h = lambda V: 0.07*np.exp(-0.05*(V + 65))\n",
    "    beta_h = lambda V:  1 /(1 + np.exp(-0.1*(V + 35)))\n",
    "    tau_h = lambda V: 1/(alpha_h(V) + beta_h(V))\n",
    "    h_inf = lambda V: alpha_h(V) * tau_h(V);\n",
    "    \n",
    "    # Initializations\n",
    "    n = np.zeros(len(I)); m = np.zeros(len(I)); h = np.zeros(len(I)); V = np.zeros(len(I))\n",
    " \n",
    "    # Set initial conditions:\n",
    "    Vstart = -65 #[mV] (starting membrane potential) \n",
    "    V[0] = Vstart #[mV]\n",
    "    n[0] = n_inf(Vstart); m[0] = m_inf(Vstart); h[0] = h_inf(Vstart);\n",
    "    \n",
    "    ##########################################################################\n",
    "    # Simulation: iteratatively update the variables using the forward Euler method\n",
    "    for ii in range(len(I)-1):\n",
    "        # Update activation state variables\n",
    "        n[ii+1] = n[ii] + dt*(n_inf(V[ii]) - n[ii])/tau_n(V[ii])\n",
    "        m[ii+1] = m[ii] + dt*(m_inf(V[ii]) - m[ii])/tau_m(V[ii])\n",
    "        h[ii+1] = h[ii] + dt*(h_inf(V[ii]) - h[ii])/tau_h(V[ii])\n",
    "        V[ii+1] = V[ii] + dt/C*(I[ii] - gl*(V[ii]-El) - gk*n[ii]**4 *(V[ii]-Ek) - gna*m[ii]**3*h[ii]*(V[ii]-Ena));\n",
    "\n",
    "    return V, m, n, h\n"
   ]
  },
  {
   "cell_type": "markdown",
   "metadata": {},
   "source": [
    "The code above implements the Hodgkin Huxley model using the Forward Euler method to solve the differential equations. For your assignment, you will test the effects of various parameters on the solution, and modify it by adding an addition voltage-gated ion channel. In the following cells, we inject a current pulse to demonstrate that this depolarization causes and action potential in the model."
   ]
  },
  {
   "cell_type": "code",
   "execution_count": null,
   "metadata": {
    "collapsed": false
   },
   "outputs": [],
   "source": [
    "dt = 1e-3; # 1 us\n",
    "I = np.zeros(int(1000 / dt)) # 1 s of zero current\n",
    "I[int(200/dt):int(210/dt)] = 0.2; # 0.2 uA / mm^2 current for 10 ms\n",
    "V, m, n, h = hh(I, dt) # simulate it!\n"
   ]
  },
  {
   "cell_type": "code",
   "execution_count": null,
   "metadata": {
    "collapsed": false
   },
   "outputs": [],
   "source": [
    "# Generate a two y-axis plot with current (red) and resulting membrane potential (blue)\n",
    "fig, ax1 = plt.subplots()\n",
    "t = np.arange(0, 1, dt / 1000)\n",
    "ax1.plot(t, V, 'b-')\n",
    "ax1.set_xlabel('time (s)')\n",
    "ax1.set_ylabel(r'$V_{m}$', color='b')\n",
    "ax1.set_ylim([-100, 80])\n",
    "ax2 = ax1.twinx()\n",
    "ax2.plot(t, I, 'r-')\n",
    "ax2.set_ylim([-0.5, 5])\n",
    "ax2.set_ylabel(r'$I_{in}$', color='r')\n",
    "ax1.set_xlim([0.1, 0.3])\n"
   ]
  }
 ],
 "metadata": {
  "kernelspec": {
   "display_name": "Python 3",
   "language": "python",
   "name": "python3"
  },
  "language_info": {
   "codemirror_mode": {
    "name": "ipython",
    "version": 3
   },
   "file_extension": ".py",
   "mimetype": "text/x-python",
   "name": "python",
   "nbconvert_exporter": "python",
   "pygments_lexer": "ipython3",
   "version": "3.5.1"
  }
 },
 "nbformat": 4,
 "nbformat_minor": 0
}
